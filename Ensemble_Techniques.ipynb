{
  "nbformat": 4,
  "nbformat_minor": 0,
  "metadata": {
    "colab": {
      "name": "Ensemble Techniques.ipynb",
      "provenance": [],
      "authorship_tag": "ABX9TyMGi/oaxY1rtUGf5zisUiNf",
      "include_colab_link": true
    },
    "kernelspec": {
      "name": "python3",
      "display_name": "Python 3"
    }
  },
  "cells": [
    {
      "cell_type": "markdown",
      "metadata": {
        "id": "view-in-github",
        "colab_type": "text"
      },
      "source": [
        "<a href=\"https://colab.research.google.com/github/adityasankalp/Ensemble_Techniques/blob/main/Ensemble_Techniques.ipynb\" target=\"_parent\"><img src=\"https://colab.research.google.com/assets/colab-badge.svg\" alt=\"Open In Colab\"/></a>"
      ]
    },
    {
      "cell_type": "code",
      "metadata": {
        "id": "xeqaBFL087Io"
      },
      "source": [
        "    # Import the releavant libraries\r\n",
        "    import numpy as np\r\n",
        "    import pandas as pd\r\n",
        "    import tensorflow as tf\r\n",
        "    import math as math\r\n",
        "    import matplotlib.pyplot as plt"
      ],
      "execution_count": 3,
      "outputs": []
    },
    {
      "cell_type": "code",
      "metadata": {
        "colab": {
          "base_uri": "https://localhost:8080/"
        },
        "id": "iGQ5YZ5N-gxA",
        "outputId": "2b80daf8-7f52-4325-f824-1145629651fd"
      },
      "source": [
        "# Load the MNIST Data\r\n",
        "from sklearn.datasets import fetch_openml\r\n",
        "mnist = fetch_openml('mnist_784', version=1)\r\n",
        "mnist.keys()"
      ],
      "execution_count": 5,
      "outputs": [
        {
          "output_type": "execute_result",
          "data": {
            "text/plain": [
              "dict_keys(['data', 'target', 'frame', 'feature_names', 'target_names', 'DESCR', 'details', 'categories', 'url'])"
            ]
          },
          "metadata": {
            "tags": []
          },
          "execution_count": 5
        }
      ]
    },
    {
      "cell_type": "code",
      "metadata": {
        "id": "r6o_E95c-guW"
      },
      "source": [
        "# Divide data into train,valid and test set\r\n",
        "from sklearn.model_selection import train_test_split\r\n",
        "train_1_X,test_X,train_1_Y,test_Y = train_test_split(mnist['data'],mnist['target'],test_size = 10000,random_state = 20)\r\n",
        "train_X,valid_X,train_Y,valid_Y = train_test_split(train_1_X,train_1_Y,test_size = 10000,random_state = 20)"
      ],
      "execution_count": 6,
      "outputs": []
    },
    {
      "cell_type": "code",
      "metadata": {
        "colab": {
          "base_uri": "https://localhost:8080/"
        },
        "id": "eRcEbQ4v-grc",
        "outputId": "8866c12f-5e75-4855-cfc4-d00260b86c96"
      },
      "source": [
        "#Check size of data\r\n",
        "\r\n",
        "#Training data\r\n",
        "\r\n",
        "print(\"Training Data_features\",train_X.shape)\r\n",
        "print(\"Training Data_target\",train_Y.shape)\r\n",
        "print(\"Valid Data_features\",valid_X.shape)\r\n",
        "print(\"Valid Data_target\",valid_Y.shape)\r\n",
        "print(\"Test Data_features\",test_X.shape)\r\n",
        "print(\"Test Data_target\",test_Y.shape)"
      ],
      "execution_count": 7,
      "outputs": [
        {
          "output_type": "stream",
          "text": [
            "Training Data_features (50000, 784)\n",
            "Training Data_target (50000,)\n",
            "Valid Data_features (10000, 784)\n",
            "Valid Data_target (10000,)\n",
            "Test Data_features (10000, 784)\n",
            "Test Data_target (10000,)\n"
          ],
          "name": "stdout"
        }
      ]
    },
    {
      "cell_type": "code",
      "metadata": {
        "colab": {
          "base_uri": "https://localhost:8080/",
          "height": 316
        },
        "id": "gg6dJL2D-gpB",
        "outputId": "7a103b65-fc61-4cea-e268-dfb909275e23"
      },
      "source": [
        "# view a sample image\r\n",
        "\r\n",
        "x = np.random.randint(0,50000)\r\n",
        "print(x)\r\n",
        "print(\"target_variable\",train_Y[x])\r\n",
        "t1 = train_X[x].reshape(28,28)\r\n",
        "plt.imshow(t1)"
      ],
      "execution_count": 8,
      "outputs": [
        {
          "output_type": "stream",
          "text": [
            "45782\n",
            "target_variable 2\n"
          ],
          "name": "stdout"
        },
        {
          "output_type": "execute_result",
          "data": {
            "text/plain": [
              "<matplotlib.image.AxesImage at 0x7ff3cb400450>"
            ]
          },
          "metadata": {
            "tags": []
          },
          "execution_count": 8
        },
        {
          "output_type": "display_data",
          "data": {
            "image/png": "[encoded data removed]",
            "text/plain": [
              "<Figure size 432x288 with 1 Axes>"
            ]
          },
          "metadata": {
            "tags": [],
            "needs_background": "light"
          }
        }
      ]
    },
    {
      "cell_type": "code",
      "metadata": {
        "id": "Wf8m-hGD-gmG"
      },
      "source": [
        "# Standardize the features using standard scaler\r\n",
        "from sklearn.preprocessing import StandardScaler\r\n",
        "scaled = StandardScaler()\r\n",
        "train_x = scaled.fit_transform(train_X)"
      ],
      "execution_count": 9,
      "outputs": []
    },
    {
      "cell_type": "code",
      "metadata": {
        "colab": {
          "base_uri": "https://localhost:8080/"
        },
        "id": "2NtvuCJd-gjE",
        "outputId": "ba8e31be-eef6-46b9-9ab1-79cf4e609c36"
      },
      "source": [
        "# Model train using Random forest\r\n",
        "from sklearn.ensemble import RandomForestClassifier\r\n",
        "clf1 = RandomForestClassifier()\r\n",
        "clf1.fit(train_x,train_Y)\r\n",
        "clf1.score(scaled.transform(valid_X),valid_Y)"
      ],
      "execution_count": 10,
      "outputs": [
        {
          "output_type": "execute_result",
          "data": {
            "text/plain": [
              "0.9687"
            ]
          },
          "metadata": {
            "tags": []
          },
          "execution_count": 10
        }
      ]
    },
    {
      "cell_type": "code",
      "metadata": {
        "colab": {
          "base_uri": "https://localhost:8080/"
        },
        "id": "BxGXAfcr-gfw",
        "outputId": "93dbf174-9b1e-4668-be3b-d44b94a0c0df"
      },
      "source": [
        "# model train using Extratrees where for features threshold is chosen randomly\r\n",
        "from sklearn.ensemble import ExtraTreesClassifier\r\n",
        "clf2 = ExtraTreesClassifier()\r\n",
        "clf2.fit(train_x,train_Y)\r\n",
        "clf2.score(scaled.transform(valid_X),valid_Y)"
      ],
      "execution_count": 11,
      "outputs": [
        {
          "output_type": "execute_result",
          "data": {
            "text/plain": [
              "0.9722"
            ]
          },
          "metadata": {
            "tags": []
          },
          "execution_count": 11
        }
      ]
    },
    {
      "cell_type": "code",
      "metadata": {
        "colab": {
          "base_uri": "https://localhost:8080/"
        },
        "id": "tjHbxl6n-gci",
        "outputId": "d1b4002b-2c43-40df-c8d9-4ce579d878c4"
      },
      "source": [
        "# Support Vector Model using One vs Rest strategy\r\n",
        "from sklearn.svm import SVC\r\n",
        "clf3= SVC()\r\n",
        "clf3.fit(train_x,train_Y)\r\n",
        "clf3.score(scaled.transform(valid_X),valid_Y)"
      ],
      "execution_count": 12,
      "outputs": [
        {
          "output_type": "execute_result",
          "data": {
            "text/plain": [
              "0.9642"
            ]
          },
          "metadata": {
            "tags": []
          },
          "execution_count": 12
        }
      ]
    },
    {
      "cell_type": "code",
      "metadata": {
        "id": "T_Ydr1GC-gWj"
      },
      "source": [
        "# get predictions from all three models\r\n",
        "y1 = clf1.predict(scaled.transform(test_X))\r\n",
        "y2 = clf2.predict(scaled.transform(test_X))\r\n",
        "y3 = clf3.predict(scaled.transform(test_X))\r\n",
        "\r\n",
        "#y4 = "
      ],
      "execution_count": 13,
      "outputs": []
    },
    {
      "cell_type": "code",
      "metadata": {
        "id": "PXmsPOhg-gNT"
      },
      "source": [
        "# Hard voting by getting the mode of the three model predictions\r\n",
        "from scipy import stats\r\n",
        "y4 = np.vstack((y1,y2,y3))\r\n",
        "y5 = stats.mode(y4).mode"
      ],
      "execution_count": 14,
      "outputs": []
    },
    {
      "cell_type": "code",
      "metadata": {
        "colab": {
          "base_uri": "https://localhost:8080/"
        },
        "id": "1EToj-9Y-gCi",
        "outputId": "33ab9fde-3b75-46e0-df14-f5a80f7b945c"
      },
      "source": [
        "# Hard voting improves the score\r\n",
        "from sklearn.metrics import accuracy_score\r\n",
        "print(\"Random Forest Accuracy\",accuracy_score(y1,test_Y))\r\n",
        "print(\"Extra Trees Accuracy\",accuracy_score(y2,test_Y))\r\n",
        "print(\"SVC Accuracy\",accuracy_score(y3,test_Y))\r\n",
        "print(\"Hard Voting Accuracy\",accuracy_score(y5.T,test_Y))"
      ],
      "execution_count": 15,
      "outputs": [
        {
          "output_type": "stream",
          "text": [
            "Random Forest Accuracy 0.9685\n",
            "Extra Trees Accuracy 0.9717\n",
            "SVC Accuracy 0.9642\n",
            "Hard Voting Accuracy 0.9734\n"
          ],
          "name": "stdout"
        }
      ]
    },
    {
      "cell_type": "code",
      "metadata": {
        "id": "xbOpPb1y-fvj"
      },
      "source": [
        "# Soft voting using mean of probabilities and then comparing with threshold \r\n",
        "from sklearn.ensemble import VotingClassifier\r\n",
        "clf3_b = SVC(probability=True)\r\n",
        "voting_clf = VotingClassifier(estimators=[('rf', clf1), \r\n",
        "                                          ('rt', clf2), ('svc', clf3_b)],\r\n",
        "voting='soft')\r\n",
        "voting_clf.fit(train_x, train_Y)"
      ],
      "execution_count": null,
      "outputs": []
    },
    {
      "cell_type": "code",
      "metadata": {
        "colab": {
          "base_uri": "https://localhost:8080/"
        },
        "id": "wfaxQOrZhLsk",
        "outputId": "d45d347d-3d22-47ab-b528-818b084b0bc6"
      },
      "source": [
        "# Soft Voting performs better than hard voting\r\n",
        "voting_clf.score(scaled.transform(test_X),test_Y)"
      ],
      "execution_count": 17,
      "outputs": [
        {
          "output_type": "execute_result",
          "data": {
            "text/plain": [
              "0.9758"
            ]
          },
          "metadata": {
            "tags": []
          },
          "execution_count": 17
        }
      ]
    },
    {
      "cell_type": "code",
      "metadata": {
        "colab": {
          "base_uri": "https://localhost:8080/"
        },
        "id": "_GxqcrewggZs",
        "outputId": "b071b6dd-42a6-4b00-b831-af0ac685aeb7"
      },
      "source": [
        "# Stacking \r\n",
        "y11 = clf1.predict(scaled.transform(valid_X))\r\n",
        "y22 = clf2.predict(scaled.transform(valid_X))\r\n",
        "y33 = clf3.predict(scaled.transform(valid_X))\r\n",
        "\r\n",
        "y44 = np.vstack((y11,y22,y33)).T\r\n",
        "clf_b = RandomForestClassifier()\r\n",
        "clf_b.fit(y44,valid_Y)\r\n"
      ],
      "execution_count": 18,
      "outputs": [
        {
          "output_type": "execute_result",
          "data": {
            "text/plain": [
              "RandomForestClassifier(bootstrap=True, ccp_alpha=0.0, class_weight=None,\n",
              "                       criterion='gini', max_depth=None, max_features='auto',\n",
              "                       max_leaf_nodes=None, max_samples=None,\n",
              "                       min_impurity_decrease=0.0, min_impurity_split=None,\n",
              "                       min_samples_leaf=1, min_samples_split=2,\n",
              "                       min_weight_fraction_leaf=0.0, n_estimators=100,\n",
              "                       n_jobs=None, oob_score=False, random_state=None,\n",
              "                       verbose=0, warm_start=False)"
            ]
          },
          "metadata": {
            "tags": []
          },
          "execution_count": 18
        }
      ]
    },
    {
      "cell_type": "code",
      "metadata": {
        "colab": {
          "base_uri": "https://localhost:8080/"
        },
        "id": "gH1XWxS0hD2k",
        "outputId": "73c56d9d-cbaf-4ed3-942c-ef25a8855d46"
      },
      "source": [
        "# For Blender model Random Forest chosen\r\n",
        "y11t = clf1.predict(scaled.transform(test_X))\r\n",
        "y22t = clf2.predict(scaled.transform(test_X))\r\n",
        "y33t = clf3.predict(scaled.transform(test_X))\r\n",
        "\r\n",
        "y44t = np.vstack((y11t,y22t,y33t)).T\r\n",
        "#y55t = clf_b.predict(y44t)\r\n",
        "\r\n",
        "\r\n",
        "clf_b.score(y44t,test_Y)"
      ],
      "execution_count": 19,
      "outputs": [
        {
          "output_type": "execute_result",
          "data": {
            "text/plain": [
              "0.9715"
            ]
          },
          "metadata": {
            "tags": []
          },
          "execution_count": 19
        }
      ]
    }
  ]
}